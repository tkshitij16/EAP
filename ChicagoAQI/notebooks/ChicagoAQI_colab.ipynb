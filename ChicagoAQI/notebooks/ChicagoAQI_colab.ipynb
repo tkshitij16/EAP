  "cells": [
    {
      "cell_type": "markdown",
      "id": "77d31506",
      "metadata": {},
      "source": [
        "# Chicago AQI GNN Colab\n",
        "This notebook runs the end-to-end pipeline for predicting AQI using a Graph Neural Network. It consolidates the contents of the scripts in the `ChicagoAQI` package for easy execution on Google Colab."
      ]
    },
    {
      "cell_type": "markdown",
      "id": "e3ee5518",
      "metadata": {},
      "source": [
        "## Setup\n",
        "Install required libraries. Colab already provides many packages, but we install any missing ones."
      ]
    },
    {
      "cell_type": "code",
      "execution_count": null,
      "id": "113568d8",
      "metadata": {},
      "outputs": [],
      "source": [
        "!pip install geopandas rasterio torch torch-geometric scikit-learn streamlit folium --quiet"
      ]
    },
    {
      "cell_type": "code",
      "execution_count": null,
      "metadata": {},
      "outputs": [],
      "source": [
        "# Clone repository if not present and add to path",
        "import pathlib, sys, subprocess\n",
        "repo_url = 'https://github.com/USEPA/EAP.git'\n",
        "repo_dir = pathlib.Path('EAP')\n",
        "if not repo_dir.exists():\n",
        "    subprocess.run(['git', 'clone', repo_url, str(repo_dir)], check=True)\n",
        "sys.path.append(str((repo_dir / 'ChicagoAQI').resolve().parent))"
      ]
    },
    {
      "cell_type": "markdown",
      "id": "12e27a00",
      "metadata": {},
      "source": [
        "## Data Ingestion\n",
        "Download HRRR data and EPA AQS data."
      ]
    },
    {
      "cell_type": "code",
      "execution_count": null,
      "id": "7f701e13",
      "metadata": {},
      "outputs": [],
      "source": [
        "import pandas as pd\n",
        "from pathlib import Path\n",
        "\n",
        "# Example HRRR fetch for a single hour\n",
        "from ChicagoAQI.scripts.hrrr_ingest import load_hrrr_hours\n",
        "from ChicagoAQI.scripts.aqs_ingest import load_aqs_data\n",
        "\n",
        "start = pd.Timestamp('2025-01-01 00')\n",
        "end = pd.Timestamp('2025-01-01 03')\n",
        "hrs = pd.date_range(start, end, freq='H')\n",
        "hrrr_ds = load_hrrr_hours(hrs, Path('data/hrrr'))\n",
        "\n",
        "# AQS credentials must be set via environment vars AQSuser and AQSkey\n",
        "# Example retrieving a day's data\n",
        "# aqs_df = load_aqs_data('2025-01-01', '2025-01-02')\n"
      ]
    },
    {
      "cell_type": "markdown",
      "id": "20b35dc5",
      "metadata": {},
      "source": [
        "## Build Static Features"
      ]
    },
    {
      "cell_type": "code",
      "execution_count": null,
      "id": "0008f75e",
      "metadata": {},
      "outputs": [],
      "source": [
        "import geopandas as gpd\n",
        "from ChicagoAQI.scripts.build_static import create_fishnet, add_landuse\n",
        "\n",
        "city = gpd.read_file('path_to_city_boundary.shp')\n",
        "fishnet = create_fishnet(city, 500)\n",
        "fishnet = add_landuse(fishnet, Path('landuse.tif'))\n",
        "fishnet.to_file('features/static.geojson', driver='GeoJSON')\n"
      ]
    },
    {
      "cell_type": "markdown",
      "id": "8b34a36b",
      "metadata": {},
      "source": [
        "## Interpolate HRRR data to Grid"
      ]
    },
    {
      "cell_type": "code",
      "execution_count": null,
      "id": "525f317d",
      "metadata": {},
      "outputs": [],
      "source": [
        "from ChicagoAQI.scripts.build_dynamic import interpolate_to_grid\n",
        "\n",
        "dynamic = interpolate_to_grid(Path('data/hrrr/hrrr_subset.nc'), Path('features/static.geojson'))\n",
        "dynamic.to_netcdf('features/dynamic.nc')\n"
      ]
    },
    {
      "cell_type": "markdown",
      "id": "357a2d99",
      "metadata": {},
      "source": [
        "## Build Graph"
      ]
    },
    {
      "cell_type": "code",
      "execution_count": null,
      "id": "ebccc24b",
      "metadata": {},
      "outputs": [],
      "source": [
        "from ChicagoAQI.scripts.graph_assembly import build_knn_graph\n",
        "import torch\n",
        "\n",
        "graph = build_knn_graph(Path('features/static.geojson'))\n",
        "torch.save(graph, 'graphs/graph.pt')\n"
      ]
    },
    {
      "cell_type": "markdown",
      "id": "ece2c92e",
      "metadata": {},
      "source": [
        "## Train Model"
      ]
    },
    {
      "cell_type": "code",
      "execution_count": null,
      "id": "2c1c6a38",
      "metadata": {},
      "outputs": [],
      "source": [
        "import torch\n",
        "from ChicagoAQI.scripts.train import train\n",
        "\n",
        "# Example feature/target tensors\n",
        "features = torch.randn(len(graph), 4)  # dynamic variables\n",
        "targets = torch.randn(len(graph), 1)\n",
        "model = train(Path('graphs/graph.pt'), features, targets)\n",
        "torch.save(model.state_dict(), 'models/dcrnn.pt')\n"
      ]
    },
    {
      "cell_type": "markdown",
      "id": "a58c8bd7",
      "metadata": {},
      "source": [
        "## Run Inference"
      ]
    },
    {
      "cell_type": "code",
      "execution_count": null,
      "id": "a7f31835",
      "metadata": {},
      "outputs": [],
      "source": [
        "from ChicagoAQI.scripts.infer import run_inference\n",
        "\n",
        "preds = run_inference(Path('models/dcrnn.pt'), Path('graphs/graph.pt'), features)\n",
        "print(preds)\n"
      ]
    },
    {
      "cell_type": "markdown",
      "id": "4c3ecd8d",
      "metadata": {},
      "source": [
        "## Visualize with Streamlit\n",
        "In Colab you can launch a Streamlit app using the `streamlit run` command; the app code is available in `ChicagoAQI/dashboard/dashboard.py`."
      ]
    },
    {
      "cell_type": "code",
      "execution_count": null,
      "id": "15ac1240",
      "metadata": {},
      "outputs": [],
      "source": [
        "!streamlit run ChicagoAQI/dashboard/dashboard.py & npx localtunnel --port 8501"
      ]
    }
  ],
  "metadata": {},
  "nbformat": 4,
  "nbformat_minor": 5
}
 "cells": [
  {
   "cell_type": "markdown",
   "id": "77d31506",
   "metadata": {},
   "source": [
    "# Chicago AQI GNN Colab\n",
    "This notebook runs the end-to-end pipeline for predicting AQI using a Graph Neural Network. It consolidates the contents of the scripts in the `ChicagoAQI` package for easy execution on Google Colab."
   ]
  },
  {
   "cell_type": "markdown",
   "id": "e3ee5518",
   "metadata": {},
   "source": [
    "## Setup\n",
    "Install required libraries. Colab already provides many packages, but we install any missing ones."
   ]
  },
  {
   "cell_type": "code",
   "execution_count": null,
   "id": "113568d8",
   "metadata": {},
   "outputs": [],
   "source": [
    "!pip install geopandas rasterio torch torch-geometric scikit-learn streamlit folium --quiet"
   ]
  },
  {
   "cell_type": "code",
   "execution_count": null,
   "id": "eef87534",
   "metadata": {},
   "outputs": [],
   "source": [
    "# Clone repository if not present and add to pathimport pathlib, sys, subprocess\n",
    "repo_url = 'https://github.com/USEPA/EAP.git'\n",
    "repo_dir = pathlib.Path('EAP')\n",
    "if not repo_dir.exists():\n",
    "    subprocess.run(['git', 'clone', repo_url, str(repo_dir)], check=True)\n",
    "sys.path.append(str((repo_dir / 'ChicagoAQI').resolve().parent))"
   ]
  },
  {
   "cell_type": "markdown",
   "id": "12e27a00",
   "metadata": {},
   "source": [
    "## Data Ingestion\n",
    "Download HRRR data and EPA AQS data."
   ]
  },
  {
   "cell_type": "code",
   "execution_count": null,
   "id": "7f701e13",
   "metadata": {},
   "outputs": [],
   "source": [
    "import pandas as pd\n",
    "from pathlib import Path\n",
    "\n",
    "# Example HRRR fetch for a single hour\n",
    "from ChicagoAQI.scripts.hrrr_ingest import load_hrrr_hours\n",
    "from ChicagoAQI.scripts.aqs_ingest import load_aqs_data\n",
    "\n",
    "start = pd.Timestamp('2025-01-01 00')\n",
    "end = pd.Timestamp('2025-01-01 03')\n",
    "hrs = pd.date_range(start, end, freq='H')\n",
    "hrrr_ds = load_hrrr_hours(hrs, Path('data/hrrr'))\n",
    "\n",
    "# AQS credentials must be set via environment vars AQSuser and AQSkey\n",
    "# Example retrieving a day's data\n",
    "# aqs_df = load_aqs_data('2025-01-01', '2025-01-02')\n"
   ]
  },
  {
   "cell_type": "markdown",
   "id": "20b35dc5",
   "metadata": {},
   "source": [
    "## Build Static Features"
   ]
  },
  {
   "cell_type": "code",
   "execution_count": null,
   "id": "0008f75e",
   "metadata": {},
   "outputs": [],
   "source": [
    "import geopandas as gpd\n",
    "from ChicagoAQI.scripts.build_static import create_fishnet, add_landuse\n",
    "\n",
    "city = gpd.read_file('path_to_city_boundary.shp')\n",
    "fishnet = create_fishnet(city, 500)\n",
    "fishnet = add_landuse(fishnet, Path('landuse.tif'))\n",
    "fishnet.to_file('features/static.geojson', driver='GeoJSON')\n"
   ]
  },
  {
   "cell_type": "markdown",
   "id": "8b34a36b",
   "metadata": {},
   "source": [
    "## Interpolate HRRR data to Grid"
   ]
  },
  {
   "cell_type": "code",
   "execution_count": null,
   "id": "525f317d",
   "metadata": {},
   "outputs": [],
   "source": [
    "from ChicagoAQI.scripts.build_dynamic import interpolate_to_grid\n",
    "\n",
    "dynamic = interpolate_to_grid(Path('data/hrrr/hrrr_subset.nc'), Path('features/static.geojson'))\n",
    "dynamic.to_netcdf('features/dynamic.nc')\n"
   ]
  },
  {
   "cell_type": "markdown",
   "id": "357a2d99",
   "metadata": {},
   "source": [
    "## Build Graph"
   ]
  },
  {
   "cell_type": "code",
   "execution_count": null,
   "id": "ebccc24b",
   "metadata": {},
   "outputs": [],
   "source": [
    "from ChicagoAQI.scripts.graph_assembly import build_knn_graph\n",
    "import torch\n",
    "\n",
    "graph = build_knn_graph(Path('features/static.geojson'))\n",
    "torch.save(graph, 'graphs/graph.pt')\n"
   ]
  },
  {
   "cell_type": "markdown",
   "id": "ece2c92e",
   "metadata": {},
   "source": [
    "## Train Model"
   ]
  },
  {
   "cell_type": "code",
   "execution_count": null,
   "id": "2c1c6a38",
   "metadata": {},
   "outputs": [],
   "source": [
    "import torch\n",
    "from ChicagoAQI.scripts.train import train\n",
    "\n",
    "# Example feature/target tensors\n",
    "features = torch.randn(len(graph), 4)  # dynamic variables\n",
    "targets = torch.randn(len(graph), 1)\n",
    "model = train(Path('graphs/graph.pt'), features, targets)\n",
    "torch.save(model.state_dict(), 'models/dcrnn.pt')\n"
   ]
  },
  {
   "cell_type": "markdown",
   "id": "a58c8bd7",
   "metadata": {},
   "source": [
    "## Run Inference"
   ]
  },
  {
   "cell_type": "code",
   "execution_count": null,
   "id": "a7f31835",
   "metadata": {},
   "outputs": [],
   "source": [
    "from ChicagoAQI.scripts.infer import run_inference\n",
    "\n",
    "preds = run_inference(Path('models/dcrnn.pt'), Path('graphs/graph.pt'), features)\n",
    "print(preds)\n"
   ]
  },
  {
   "cell_type": "markdown",
   "id": "4c3ecd8d",
   "metadata": {},
   "source": [
    "## Visualize with Streamlit\n",
    "In Colab you can launch a Streamlit app using the `streamlit run` command; the app code is available in `ChicagoAQI/dashboard/dashboard.py`."
   ]
  },
  {
   "cell_type": "code",
   "execution_count": null,
   "id": "15ac1240",
   "metadata": {},
   "outputs": [],
   "source": [
    "!streamlit run ChicagoAQI/dashboard/dashboard.py & npx localtunnel --port 8501"
   ]
  }
 ],
 "metadata": {},
 "nbformat": 4,
 "nbformat_minor": 5
}